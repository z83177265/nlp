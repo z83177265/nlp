{
 "cells": [
  {
   "cell_type": "code",
   "execution_count": 1,
   "metadata": {},
   "outputs": [
    {
     "name": "stdout",
     "output_type": "stream",
     "text": [
      "[(0, 0), (10, 0), (2.3, 0), (2, 0), (4, 3), (5.1, 3), (15.1, 5), (6, 4)]\n",
      "[0, 3, 4, 7]\n",
      "羽毛球\n",
      "拍\n",
      "卖完了\n"
     ]
    }
   ],
   "source": [
    "import math\n",
    "\n",
    "dictionary = [('羽毛球', 2), ('羽毛', 2.3), ('毛球', 5), ('球', 2.6), ('球拍', 2), ('拍', 2), ('拍卖', 3.1), ('卖', 2), ('完了', 3.6), ('卖完了', 2), ('羽', 10), ('毛', 10), ('完', 10), ('了', 10),]\n",
    "string = '羽毛球拍卖完了'\n",
    "max_length = 3 #词典最长词\n",
    "\n",
    "def getAllIncomingPoints(point:int, string:str, dictionary:list):\n",
    "  results = []\n",
    "  end = point\n",
    "  start = 0\n",
    "  if end - max_length >= 0:\n",
    "    start = end - max_length\n",
    "\n",
    "  while start < end:\n",
    "    if string[start:end] in dict(dictionary):\n",
    "      results.append(start)\n",
    "    start += 1\n",
    "  return results\n",
    "\n",
    "def getPathValue(start:int, end:int, string:str, dictionary:list):\n",
    "  if start > end:\n",
    "    return None\n",
    "\n",
    "  if string[start:end] in dict(dictionary):\n",
    "    return dict(dictionary)[string[start:end]]\n",
    "  else:\n",
    "    return None\n",
    "\n",
    "# 规划路径\n",
    "pathList = [(0, 0)]\n",
    "\n",
    "for current in range(1, len(string) + 1):\n",
    "  incomingPoints = getAllIncomingPoints(current, string, dictionary)\n",
    "  if len(incomingPoints) == 0:\n",
    "    pathList.append((None, None))\n",
    "    continue\n",
    "\n",
    "  minValue = math.inf\n",
    "  formPoint = 0\n",
    "  for incoming in incomingPoints:\n",
    "    value = pathList[incoming][0] + getPathValue(incoming, current, string, dictionary) \n",
    "    if value < minValue:\n",
    "      minValue = value\n",
    "      formPoint = incoming\n",
    "  pathList.append((minValue, formPoint))\n",
    "\n",
    "print(pathList)\n",
    "\n",
    "# 反推最佳路径\n",
    "bestPath = []\n",
    "currentPoint = len(pathList) - 1\n",
    "\n",
    "bestPath.append(currentPoint)\n",
    "while currentPoint != 0:\n",
    "  currentPoint = pathList[currentPoint][1]\n",
    "  bestPath.append(currentPoint)\n",
    "bestPath.reverse()\n",
    "\n",
    "print(bestPath)\n",
    "\n",
    "# 打印结果\n",
    "startingIndex = 0\n",
    "endingIndex = 1\n",
    "while (endingIndex < len(bestPath)):\n",
    "  print(string[bestPath[startingIndex]:bestPath[endingIndex]])\n",
    "  startingIndex = endingIndex\n",
    "  endingIndex += 1"
   ]
  },
  {
   "cell_type": "code",
   "execution_count": null,
   "metadata": {},
   "outputs": [],
   "source": []
  }
 ],
 "metadata": {
  "kernelspec": {
   "display_name": "Python 3",
   "language": "python",
   "name": "python3"
  },
  "language_info": {
   "codemirror_mode": {
    "name": "ipython",
    "version": 3
   },
   "file_extension": ".py",
   "mimetype": "text/x-python",
   "name": "python",
   "nbconvert_exporter": "python",
   "pygments_lexer": "ipython3",
   "version": "3.6.11"
  }
 },
 "nbformat": 4,
 "nbformat_minor": 2
}
